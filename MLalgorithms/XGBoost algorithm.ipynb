{
 "cells": [
  {
   "cell_type": "markdown",
   "metadata": {},
   "source": [
    "<h1> XGBoost algorithm Jupyter notebook </h1>"
   ]
  },
  {
   "cell_type": "markdown",
   "metadata": {},
   "source": [
    "XGBoost is an implementation of gradient boosted decision trees designed for speed and performance that is dominative competitive machine learning."
   ]
  },
  {
   "cell_type": "markdown",
   "metadata": {},
   "source": [
    "<h3> Load python packages </h3>\n"
   ]
  },
  {
   "cell_type": "code",
   "execution_count": 40,
   "metadata": {},
   "outputs": [],
   "source": [
    "import pandas as pd\n",
    "import numpy as np\n",
    "import matplotlib.pyplot as plt\n",
    "import seaborn as sns\n",
    "from sklearn.model_selection import train_test_split,RandomizedSearchCV\n",
    "from sklearn import preprocessing\n",
    "from sklearn.metrics import accuracy_score\n",
    "import shap"
   ]
  },
  {
   "cell_type": "markdown",
   "metadata": {},
   "source": [
    "<h3> Load the datasets </h3>\n",
    "<b> Note: </b> For now this notebook assumes the input data (X) and the output variable (y) are in the same txt file. We will use a second step to build the X matrix and y vector as input to our model."
   ]
  },
  {
   "cell_type": "markdown",
   "metadata": {},
   "source": [
    "<h4> Specify the path of the file </h4>"
   ]
  },
  {
   "cell_type": "code",
   "execution_count": 2,
   "metadata": {},
   "outputs": [],
   "source": [
    "path_to_file=''"
   ]
  },
  {
   "cell_type": "code",
   "execution_count": 3,
   "metadata": {},
   "outputs": [],
   "source": [
    "data_set=pd.read_csv(path_to_file,sep=',')"
   ]
  },
  {
   "cell_type": "markdown",
   "metadata": {},
   "source": [
    "<h4> Check if the data is loaded correcty </h4>"
   ]
  },
  {
   "cell_type": "code",
   "execution_count": 4,
   "metadata": {},
   "outputs": [
    {
     "data": {
      "text/html": [
       "<div>\n",
       "<style scoped>\n",
       "    .dataframe tbody tr th:only-of-type {\n",
       "        vertical-align: middle;\n",
       "    }\n",
       "\n",
       "    .dataframe tbody tr th {\n",
       "        vertical-align: top;\n",
       "    }\n",
       "\n",
       "    .dataframe thead th {\n",
       "        text-align: right;\n",
       "    }\n",
       "</style>\n",
       "<table border=\"1\" class=\"dataframe\">\n",
       "  <thead>\n",
       "    <tr style=\"text-align: right;\">\n",
       "      <th></th>\n",
       "      <th>Condition</th>\n",
       "      <th>ImageNumber</th>\n",
       "      <th>AreaShape_Area</th>\n",
       "      <th>AreaShape_BoundingBoxArea</th>\n",
       "      <th>AreaShape_BoundingBoxMaximum_X</th>\n",
       "      <th>AreaShape_BoundingBoxMaximum_Y</th>\n",
       "      <th>AreaShape_BoundingBoxMinimum_X</th>\n",
       "      <th>AreaShape_BoundingBoxMinimum_Y</th>\n",
       "      <th>AreaShape_Center_X</th>\n",
       "      <th>AreaShape_Center_Y</th>\n",
       "      <th>...</th>\n",
       "      <th>AreaShape_MinFeretDiameter</th>\n",
       "      <th>AreaShape_MinorAxisLength</th>\n",
       "      <th>AreaShape_Orientation</th>\n",
       "      <th>AreaShape_Perimeter</th>\n",
       "      <th>AreaShape_Solidity</th>\n",
       "      <th>Location_Center_X</th>\n",
       "      <th>Location_Center_Y</th>\n",
       "      <th>Location_Center_Z</th>\n",
       "      <th>Number_Object_Number</th>\n",
       "      <th>Parent_Nuclei</th>\n",
       "    </tr>\n",
       "  </thead>\n",
       "  <tbody>\n",
       "    <tr>\n",
       "      <th>0</th>\n",
       "      <td>NC</td>\n",
       "      <td>13</td>\n",
       "      <td>1498</td>\n",
       "      <td>4131</td>\n",
       "      <td>371</td>\n",
       "      <td>87</td>\n",
       "      <td>320</td>\n",
       "      <td>6</td>\n",
       "      <td>347.143525</td>\n",
       "      <td>44.004005</td>\n",
       "      <td>...</td>\n",
       "      <td>26.095121</td>\n",
       "      <td>22.956607</td>\n",
       "      <td>22.534677</td>\n",
       "      <td>236.622366</td>\n",
       "      <td>0.752008</td>\n",
       "      <td>347.143525</td>\n",
       "      <td>44.004005</td>\n",
       "      <td>0</td>\n",
       "      <td>1</td>\n",
       "      <td>1</td>\n",
       "    </tr>\n",
       "    <tr>\n",
       "      <th>1</th>\n",
       "      <td>NC</td>\n",
       "      <td>13</td>\n",
       "      <td>5769</td>\n",
       "      <td>13736</td>\n",
       "      <td>652</td>\n",
       "      <td>136</td>\n",
       "      <td>551</td>\n",
       "      <td>0</td>\n",
       "      <td>601.668053</td>\n",
       "      <td>72.405963</td>\n",
       "      <td>...</td>\n",
       "      <td>68.308755</td>\n",
       "      <td>59.043138</td>\n",
       "      <td>-32.701535</td>\n",
       "      <td>845.033621</td>\n",
       "      <td>0.721576</td>\n",
       "      <td>601.668053</td>\n",
       "      <td>72.405963</td>\n",
       "      <td>0</td>\n",
       "      <td>2</td>\n",
       "      <td>2</td>\n",
       "    </tr>\n",
       "    <tr>\n",
       "      <th>2</th>\n",
       "      <td>NC</td>\n",
       "      <td>13</td>\n",
       "      <td>1219</td>\n",
       "      <td>2975</td>\n",
       "      <td>562</td>\n",
       "      <td>117</td>\n",
       "      <td>477</td>\n",
       "      <td>82</td>\n",
       "      <td>521.388023</td>\n",
       "      <td>101.620181</td>\n",
       "      <td>...</td>\n",
       "      <td>28.008654</td>\n",
       "      <td>21.905340</td>\n",
       "      <td>-81.027292</td>\n",
       "      <td>243.858910</td>\n",
       "      <td>0.577999</td>\n",
       "      <td>521.388023</td>\n",
       "      <td>101.620181</td>\n",
       "      <td>0</td>\n",
       "      <td>3</td>\n",
       "      <td>3</td>\n",
       "    </tr>\n",
       "    <tr>\n",
       "      <th>3</th>\n",
       "      <td>NC</td>\n",
       "      <td>13</td>\n",
       "      <td>1332</td>\n",
       "      <td>3100</td>\n",
       "      <td>388</td>\n",
       "      <td>130</td>\n",
       "      <td>326</td>\n",
       "      <td>80</td>\n",
       "      <td>359.172673</td>\n",
       "      <td>101.122372</td>\n",
       "      <td>...</td>\n",
       "      <td>36.572532</td>\n",
       "      <td>33.137725</td>\n",
       "      <td>62.379434</td>\n",
       "      <td>248.178716</td>\n",
       "      <td>0.750000</td>\n",
       "      <td>359.172673</td>\n",
       "      <td>101.122372</td>\n",
       "      <td>0</td>\n",
       "      <td>4</td>\n",
       "      <td>4</td>\n",
       "    </tr>\n",
       "    <tr>\n",
       "      <th>4</th>\n",
       "      <td>NC</td>\n",
       "      <td>13</td>\n",
       "      <td>2278</td>\n",
       "      <td>6300</td>\n",
       "      <td>184</td>\n",
       "      <td>207</td>\n",
       "      <td>121</td>\n",
       "      <td>107</td>\n",
       "      <td>157.235733</td>\n",
       "      <td>137.693591</td>\n",
       "      <td>...</td>\n",
       "      <td>54.288579</td>\n",
       "      <td>51.787400</td>\n",
       "      <td>32.251644</td>\n",
       "      <td>440.090404</td>\n",
       "      <td>0.591996</td>\n",
       "      <td>157.235733</td>\n",
       "      <td>137.693591</td>\n",
       "      <td>0</td>\n",
       "      <td>5</td>\n",
       "      <td>5</td>\n",
       "    </tr>\n",
       "  </tbody>\n",
       "</table>\n",
       "<p>5 rows × 32 columns</p>\n",
       "</div>"
      ],
      "text/plain": [
       "  Condition  ImageNumber  AreaShape_Area  AreaShape_BoundingBoxArea  \\\n",
       "0        NC           13            1498                       4131   \n",
       "1        NC           13            5769                      13736   \n",
       "2        NC           13            1219                       2975   \n",
       "3        NC           13            1332                       3100   \n",
       "4        NC           13            2278                       6300   \n",
       "\n",
       "   AreaShape_BoundingBoxMaximum_X  AreaShape_BoundingBoxMaximum_Y  \\\n",
       "0                             371                              87   \n",
       "1                             652                             136   \n",
       "2                             562                             117   \n",
       "3                             388                             130   \n",
       "4                             184                             207   \n",
       "\n",
       "   AreaShape_BoundingBoxMinimum_X  AreaShape_BoundingBoxMinimum_Y  \\\n",
       "0                             320                               6   \n",
       "1                             551                               0   \n",
       "2                             477                              82   \n",
       "3                             326                              80   \n",
       "4                             121                             107   \n",
       "\n",
       "   AreaShape_Center_X  AreaShape_Center_Y  ...  AreaShape_MinFeretDiameter  \\\n",
       "0          347.143525           44.004005  ...                   26.095121   \n",
       "1          601.668053           72.405963  ...                   68.308755   \n",
       "2          521.388023          101.620181  ...                   28.008654   \n",
       "3          359.172673          101.122372  ...                   36.572532   \n",
       "4          157.235733          137.693591  ...                   54.288579   \n",
       "\n",
       "   AreaShape_MinorAxisLength  AreaShape_Orientation  AreaShape_Perimeter  \\\n",
       "0                  22.956607              22.534677           236.622366   \n",
       "1                  59.043138             -32.701535           845.033621   \n",
       "2                  21.905340             -81.027292           243.858910   \n",
       "3                  33.137725              62.379434           248.178716   \n",
       "4                  51.787400              32.251644           440.090404   \n",
       "\n",
       "   AreaShape_Solidity  Location_Center_X  Location_Center_Y  \\\n",
       "0            0.752008         347.143525          44.004005   \n",
       "1            0.721576         601.668053          72.405963   \n",
       "2            0.577999         521.388023         101.620181   \n",
       "3            0.750000         359.172673         101.122372   \n",
       "4            0.591996         157.235733         137.693591   \n",
       "\n",
       "   Location_Center_Z  Number_Object_Number  Parent_Nuclei  \n",
       "0                  0                     1              1  \n",
       "1                  0                     2              2  \n",
       "2                  0                     3              3  \n",
       "3                  0                     4              4  \n",
       "4                  0                     5              5  \n",
       "\n",
       "[5 rows x 32 columns]"
      ]
     },
     "execution_count": 4,
     "metadata": {},
     "output_type": "execute_result"
    }
   ],
   "source": [
    "data_set.head()"
   ]
  },
  {
   "cell_type": "markdown",
   "metadata": {},
   "source": [
    "<h3> Check the column names and remove irrelevant CellProfiler output </h3>"
   ]
  },
  {
   "cell_type": "code",
   "execution_count": 5,
   "metadata": {},
   "outputs": [
    {
     "data": {
      "text/plain": [
       "Index(['Condition', 'ImageNumber', 'AreaShape_Area',\n",
       "       'AreaShape_BoundingBoxArea', 'AreaShape_BoundingBoxMaximum_X',\n",
       "       'AreaShape_BoundingBoxMaximum_Y', 'AreaShape_BoundingBoxMinimum_X',\n",
       "       'AreaShape_BoundingBoxMinimum_Y', 'AreaShape_Center_X',\n",
       "       'AreaShape_Center_Y', 'AreaShape_Compactness', 'AreaShape_ConvexArea',\n",
       "       'AreaShape_Eccentricity', 'AreaShape_EquivalentDiameter',\n",
       "       'AreaShape_EulerNumber', 'AreaShape_Extent', 'AreaShape_FormFactor',\n",
       "       'AreaShape_MajorAxisLength', 'AreaShape_MaxFeretDiameter',\n",
       "       'AreaShape_MaximumRadius', 'AreaShape_MeanRadius',\n",
       "       'AreaShape_MedianRadius', 'AreaShape_MinFeretDiameter',\n",
       "       'AreaShape_MinorAxisLength', 'AreaShape_Orientation',\n",
       "       'AreaShape_Perimeter', 'AreaShape_Solidity', 'Location_Center_X',\n",
       "       'Location_Center_Y', 'Location_Center_Z', 'Number_Object_Number',\n",
       "       'Parent_Nuclei'],\n",
       "      dtype='object')"
      ]
     },
     "execution_count": 5,
     "metadata": {},
     "output_type": "execute_result"
    }
   ],
   "source": [
    "data_set.columns"
   ]
  },
  {
   "cell_type": "code",
   "execution_count": 6,
   "metadata": {},
   "outputs": [],
   "source": [
    "X_input=data_set.drop(['Condition','ImageNumber','Location_Center_X','Location_Center_Y','Location_Center_Z','Number_Object_Number','Parent_Nuclei'],axis=1)"
   ]
  },
  {
   "cell_type": "code",
   "execution_count": 7,
   "metadata": {},
   "outputs": [],
   "source": [
    "y_vector=data_set['Condition']"
   ]
  },
  {
   "cell_type": "markdown",
   "metadata": {},
   "source": [
    "<h4> auto encode the labels (needed for XGBoost algorithm)"
   ]
  },
  {
   "cell_type": "code",
   "execution_count": 22,
   "metadata": {},
   "outputs": [],
   "source": [
    "encoder=preprocessing.LabelEncoder()"
   ]
  },
  {
   "cell_type": "code",
   "execution_count": 26,
   "metadata": {},
   "outputs": [],
   "source": [
    "encoded_conditions=encoder.fit_transform(y_vector)"
   ]
  },
  {
   "cell_type": "code",
   "execution_count": 27,
   "metadata": {},
   "outputs": [
    {
     "name": "stdout",
     "output_type": "stream",
     "text": [
      "[0 0 0 ... 1 1 1]\n"
     ]
    }
   ],
   "source": [
    "print(encoded_conditions)"
   ]
  },
  {
   "cell_type": "markdown",
   "metadata": {},
   "source": [
    "<h3> XGBoost classifier </h3>"
   ]
  },
  {
   "cell_type": "markdown",
   "metadata": {},
   "source": [
    "<h5> Split the data into train and test sets </h5>"
   ]
  },
  {
   "cell_type": "code",
   "execution_count": 28,
   "metadata": {},
   "outputs": [],
   "source": [
    "X_train,X_test,y_train,y_test=train_test_split(X_input,encoded_conditions,train_size=0.7,random_state=42)"
   ]
  },
  {
   "cell_type": "code",
   "execution_count": 29,
   "metadata": {},
   "outputs": [
    {
     "name": "stdout",
     "output_type": "stream",
     "text": [
      "Shape of train and test data is:\n"
     ]
    },
    {
     "data": {
      "text/plain": [
       "((762, 25), (327, 25))"
      ]
     },
     "execution_count": 29,
     "metadata": {},
     "output_type": "execute_result"
    }
   ],
   "source": [
    "print('Shape of train and test data is:')\n",
    "X_train.shape, X_test.shape"
   ]
  },
  {
   "cell_type": "code",
   "execution_count": 35,
   "metadata": {},
   "outputs": [
    {
     "name": "stdout",
     "output_type": "stream",
     "text": [
      "762\n"
     ]
    }
   ],
   "source": [
    "print(y_train.__len__())"
   ]
  },
  {
   "cell_type": "markdown",
   "metadata": {},
   "source": [
    "<h4> Tune the parameters of the XGBoost model </h4>"
   ]
  },
  {
   "cell_type": "code",
   "execution_count": 30,
   "metadata": {},
   "outputs": [],
   "source": [
    "import xgboost as xgb"
   ]
  },
  {
   "cell_type": "code",
   "execution_count": 31,
   "metadata": {},
   "outputs": [],
   "source": [
    "xgb_classifier = xgb.XGBClassifier()"
   ]
  },
  {
   "cell_type": "code",
   "execution_count": 32,
   "metadata": {},
   "outputs": [
    {
     "name": "stdout",
     "output_type": "stream",
     "text": [
      "Fitting 5 folds for each of 10 candidates, totalling 50 fits\n"
     ]
    },
    {
     "name": "stderr",
     "output_type": "stream",
     "text": [
      "[Parallel(n_jobs=-1)]: Using backend LokyBackend with 8 concurrent workers.\n",
      "[Parallel(n_jobs=-1)]: Done   2 tasks      | elapsed:    4.5s\n",
      "[Parallel(n_jobs=-1)]: Done   9 tasks      | elapsed:    4.7s\n",
      "[Parallel(n_jobs=-1)]: Done  16 tasks      | elapsed:    5.0s\n",
      "[Parallel(n_jobs=-1)]: Done  25 tasks      | elapsed:    5.7s\n",
      "[Parallel(n_jobs=-1)]: Done  34 tasks      | elapsed:    6.0s\n",
      "[Parallel(n_jobs=-1)]: Done  41 out of  50 | elapsed:    6.4s remaining:    1.3s\n",
      "[Parallel(n_jobs=-1)]: Done  47 out of  50 | elapsed:    6.8s remaining:    0.3s\n",
      "[Parallel(n_jobs=-1)]: Done  50 out of  50 | elapsed:    7.0s finished\n"
     ]
    },
    {
     "name": "stdout",
     "output_type": "stream",
     "text": [
      "[0]\tvalidation_0-auc:0.81167\n",
      "[1]\tvalidation_0-auc:0.84250\n",
      "[2]\tvalidation_0-auc:0.85868\n",
      "[3]\tvalidation_0-auc:0.86065\n",
      "[4]\tvalidation_0-auc:0.87545\n",
      "[5]\tvalidation_0-auc:0.88398\n",
      "[6]\tvalidation_0-auc:0.89768\n",
      "[7]\tvalidation_0-auc:0.90181\n",
      "[8]\tvalidation_0-auc:0.91024\n",
      "[9]\tvalidation_0-auc:0.91575\n",
      "[10]\tvalidation_0-auc:0.91887\n",
      "[11]\tvalidation_0-auc:0.92176\n",
      "[12]\tvalidation_0-auc:0.92803\n",
      "[13]\tvalidation_0-auc:0.93118\n",
      "[14]\tvalidation_0-auc:0.93434\n",
      "[15]\tvalidation_0-auc:0.93903\n",
      "[16]\tvalidation_0-auc:0.94164\n",
      "[17]\tvalidation_0-auc:0.94634\n",
      "[18]\tvalidation_0-auc:0.94752\n",
      "[19]\tvalidation_0-auc:0.95030\n",
      "[20]\tvalidation_0-auc:0.95309\n",
      "[21]\tvalidation_0-auc:0.95632\n",
      "[22]\tvalidation_0-auc:0.96249\n",
      "[23]\tvalidation_0-auc:0.96402\n",
      "[24]\tvalidation_0-auc:0.96535\n",
      "[25]\tvalidation_0-auc:0.96713\n",
      "[26]\tvalidation_0-auc:0.96915\n",
      "[27]\tvalidation_0-auc:0.97130\n",
      "[28]\tvalidation_0-auc:0.97380\n",
      "[29]\tvalidation_0-auc:0.97437\n",
      "[30]\tvalidation_0-auc:0.97766\n"
     ]
    },
    {
     "name": "stderr",
     "output_type": "stream",
     "text": [
      "C:\\Users\\tkuijpe1\\Anaconda3\\envs\\TopoChipScreen\\lib\\site-packages\\xgboost\\sklearn.py:1224: UserWarning: The use of label encoder in XGBClassifier is deprecated and will be removed in a future release. To remove this warning, do the following: 1) Pass option use_label_encoder=False when constructing XGBClassifier object; and 2) Encode your labels (y) as integers starting with 0, i.e. 0, 1, 2, ..., [num_class - 1].\n",
      "  warnings.warn(label_encoder_deprecation_msg, UserWarning)\n"
     ]
    },
    {
     "name": "stdout",
     "output_type": "stream",
     "text": [
      "[31]\tvalidation_0-auc:0.97983\n",
      "[32]\tvalidation_0-auc:0.98064\n",
      "[33]\tvalidation_0-auc:0.98279\n",
      "[34]\tvalidation_0-auc:0.98409\n",
      "[35]\tvalidation_0-auc:0.98519\n",
      "[36]\tvalidation_0-auc:0.98603\n",
      "[37]\tvalidation_0-auc:0.98717\n",
      "[38]\tvalidation_0-auc:0.98887\n",
      "[39]\tvalidation_0-auc:0.98959\n",
      "[40]\tvalidation_0-auc:0.98996\n",
      "[41]\tvalidation_0-auc:0.99100\n",
      "[42]\tvalidation_0-auc:0.99199\n",
      "[43]\tvalidation_0-auc:0.99226\n",
      "[44]\tvalidation_0-auc:0.99269\n",
      "[45]\tvalidation_0-auc:0.99358\n",
      "[46]\tvalidation_0-auc:0.99400\n",
      "[47]\tvalidation_0-auc:0.99398\n",
      "[48]\tvalidation_0-auc:0.99459\n",
      "[49]\tvalidation_0-auc:0.99491\n",
      "[50]\tvalidation_0-auc:0.99499\n",
      "[51]\tvalidation_0-auc:0.99553\n",
      "[52]\tvalidation_0-auc:0.99603\n",
      "[53]\tvalidation_0-auc:0.99641\n",
      "[54]\tvalidation_0-auc:0.99657\n",
      "[55]\tvalidation_0-auc:0.99714\n",
      "[56]\tvalidation_0-auc:0.99754\n",
      "[57]\tvalidation_0-auc:0.99779\n",
      "[58]\tvalidation_0-auc:0.99797\n",
      "[59]\tvalidation_0-auc:0.99801\n",
      "[60]\tvalidation_0-auc:0.99810\n",
      "[61]\tvalidation_0-auc:0.99818\n",
      "[62]\tvalidation_0-auc:0.99820\n",
      "[63]\tvalidation_0-auc:0.99856\n",
      "[64]\tvalidation_0-auc:0.99866\n",
      "[65]\tvalidation_0-auc:0.99872\n",
      "[66]\tvalidation_0-auc:0.99892\n",
      "[67]\tvalidation_0-auc:0.99906\n",
      "[68]\tvalidation_0-auc:0.99918\n",
      "[69]\tvalidation_0-auc:0.99922\n",
      "[70]\tvalidation_0-auc:0.99920\n",
      "[71]\tvalidation_0-auc:0.99937\n",
      "[72]\tvalidation_0-auc:0.99949\n",
      "[73]\tvalidation_0-auc:0.99949\n",
      "[74]\tvalidation_0-auc:0.99951\n",
      "[75]\tvalidation_0-auc:0.99957\n",
      "[76]\tvalidation_0-auc:0.99967\n",
      "[77]\tvalidation_0-auc:0.99972\n",
      "[78]\tvalidation_0-auc:0.99976\n",
      "[79]\tvalidation_0-auc:0.99979\n",
      "[80]\tvalidation_0-auc:0.99982\n",
      "[81]\tvalidation_0-auc:0.99982\n",
      "[82]\tvalidation_0-auc:0.99987\n",
      "[83]\tvalidation_0-auc:0.99988\n",
      "[84]\tvalidation_0-auc:0.99989\n",
      "[85]\tvalidation_0-auc:0.99989\n",
      "[86]\tvalidation_0-auc:0.99989\n",
      "[87]\tvalidation_0-auc:0.99987\n",
      "[88]\tvalidation_0-auc:0.99990\n",
      "[89]\tvalidation_0-auc:0.99990\n",
      "[90]\tvalidation_0-auc:0.99992\n",
      "[91]\tvalidation_0-auc:0.99992\n",
      "[92]\tvalidation_0-auc:0.99993\n",
      "[93]\tvalidation_0-auc:0.99993\n",
      "[94]\tvalidation_0-auc:0.99994\n",
      "[95]\tvalidation_0-auc:0.99995\n",
      "[96]\tvalidation_0-auc:0.99996\n",
      "[97]\tvalidation_0-auc:0.99996\n",
      "[98]\tvalidation_0-auc:0.99996\n",
      "[99]\tvalidation_0-auc:0.99996\n",
      "[100]\tvalidation_0-auc:0.99996\n",
      "[101]\tvalidation_0-auc:0.99996\n",
      "[102]\tvalidation_0-auc:0.99997\n",
      "[103]\tvalidation_0-auc:0.99996\n",
      "[104]\tvalidation_0-auc:0.99996\n",
      "[105]\tvalidation_0-auc:0.99996\n",
      "[106]\tvalidation_0-auc:0.99997\n",
      "[107]\tvalidation_0-auc:0.99998\n",
      "[108]\tvalidation_0-auc:0.99999\n",
      "[109]\tvalidation_0-auc:0.99999\n",
      "[110]\tvalidation_0-auc:0.99999\n",
      "[111]\tvalidation_0-auc:0.99998\n",
      "[112]\tvalidation_0-auc:0.99998\n",
      "[113]\tvalidation_0-auc:0.99998\n",
      "[114]\tvalidation_0-auc:0.99998\n",
      "[115]\tvalidation_0-auc:0.99998\n",
      "[116]\tvalidation_0-auc:0.99998\n",
      "[117]\tvalidation_0-auc:0.99998\n",
      "[118]\tvalidation_0-auc:0.99998\n"
     ]
    }
   ],
   "source": [
    "searchParameters = {\n",
    "            'min_child_weight': [0.1, 1, 5, 10, 50],\n",
    "            'gamma': [0.5, 1, 1.5, 2, 5],\n",
    "            'subsample': [0.6, 0.8, 1.0],\n",
    "            'colsample_bytree': [0.6, 0.8, 1.0],\n",
    "            'max_depth': [5, 10, 25, 50],\n",
    "            'learning_rate': [0.0001, 0.001, 0.1, 1],\n",
    "            'n_estimators': [50, 100, 250, 500],\n",
    "            'reg_alpha': [0.0001, 0.001, 0.1, 1],\n",
    "            'reg_lambda': [0.0001, 0.001, 0.1, 1]\n",
    "                    }\n",
    "\n",
    "fitingParameters={\n",
    "            \"early_stopping_rounds\":10,\n",
    "            \"eval_metric\" : \"auc\", \n",
    "            \"eval_set\" : [[X_train, y_train]]\n",
    "                   }\n",
    "\n",
    "random_search = RandomizedSearchCV(\n",
    "                xgb_classifier, \n",
    "                cv=5,\n",
    "                param_distributions=searchParameters, \n",
    "                scoring='roc_auc', \n",
    "                n_jobs=-1,\n",
    "                verbose=10, \n",
    "                random_state=0,\n",
    "                        )\n",
    "\n",
    "searchModel=random_search.fit(X_train, y_train, **fitingParameters)\n",
    "bestParameters=searchModel.best_estimator_.get_params()"
   ]
  },
  {
   "cell_type": "markdown",
   "metadata": {},
   "source": [
    "<h4> Select the best parameters and use in the XGBoost classifier to test the model's performance </h4>"
   ]
  },
  {
   "cell_type": "code",
   "execution_count": 33,
   "metadata": {},
   "outputs": [],
   "source": [
    "xgb_model=xgb.XGBClassifier(**bestParameters)"
   ]
  },
  {
   "cell_type": "markdown",
   "metadata": {},
   "source": [
    "<h4> Train the model with the best parameter settings </h4>"
   ]
  },
  {
   "cell_type": "code",
   "execution_count": 36,
   "metadata": {},
   "outputs": [
    {
     "name": "stdout",
     "output_type": "stream",
     "text": [
      "[13:27:21] WARNING: ..\\src\\learner.cc:1115: Starting in XGBoost 1.3.0, the default evaluation metric used with the objective 'binary:logistic' was changed from 'error' to 'logloss'. Explicitly set eval_metric if you'd like to restore the old behavior.\n"
     ]
    },
    {
     "data": {
      "text/plain": [
       "XGBClassifier(base_score=0.5, booster='gbtree', colsample_bylevel=1,\n",
       "              colsample_bynode=1, colsample_bytree=1.0,\n",
       "              enable_categorical=False, gamma=1, gpu_id=-1,\n",
       "              importance_type=None, interaction_constraints='',\n",
       "              learning_rate=0.1, max_delta_step=0, max_depth=5,\n",
       "              min_child_weight=1, missing=nan, monotone_constraints='()',\n",
       "              n_estimators=250, n_jobs=8, num_parallel_tree=1, predictor='auto',\n",
       "              random_state=0, reg_alpha=0.1, reg_lambda=1, scale_pos_weight=1,\n",
       "              subsample=1.0, tree_method='exact', validate_parameters=1,\n",
       "              verbosity=None)"
      ]
     },
     "execution_count": 36,
     "metadata": {},
     "output_type": "execute_result"
    }
   ],
   "source": [
    "xgb_model.fit(X_train,y_train)"
   ]
  },
  {
   "cell_type": "markdown",
   "metadata": {},
   "source": [
    "<h4> make predictions for the test data to investigate model accuracy </h4>"
   ]
  },
  {
   "cell_type": "code",
   "execution_count": 37,
   "metadata": {},
   "outputs": [],
   "source": [
    "y_predictions=xgb_model.predict(X_test)"
   ]
  },
  {
   "cell_type": "code",
   "execution_count": 38,
   "metadata": {},
   "outputs": [],
   "source": [
    "predictions=[round(value) for value in y_predictions]"
   ]
  },
  {
   "cell_type": "code",
   "execution_count": 42,
   "metadata": {},
   "outputs": [],
   "source": [
    "accuracy= accuracy_score(y_test,predictions)"
   ]
  },
  {
   "cell_type": "code",
   "execution_count": 43,
   "metadata": {},
   "outputs": [
    {
     "name": "stdout",
     "output_type": "stream",
     "text": [
      "Accuracy: 63.91%\n"
     ]
    }
   ],
   "source": [
    "print(\"Accuracy: %.2f%%\" % (accuracy * 100.0))"
   ]
  },
  {
   "cell_type": "markdown",
   "metadata": {},
   "source": [
    "<h4> Plot the most important features based on the SHAP values </h4>"
   ]
  },
  {
   "cell_type": "markdown",
   "metadata": {},
   "source": [
    "To get an overview of which features are most important for a model we can plot the SHAP values of every feature for every sample. The plot below sorts features by the sum of SHAP value magnitudes over all samples, and uses SHAP values to show the distribution of the impacts each feature has on the model output. The color represents the feature value (red high, blue low). "
   ]
  },
  {
   "cell_type": "code",
   "execution_count": 45,
   "metadata": {},
   "outputs": [],
   "source": [
    "explainer=shap.Explainer(xgb_model)"
   ]
  },
  {
   "cell_type": "code",
   "execution_count": 46,
   "metadata": {},
   "outputs": [
    {
     "name": "stderr",
     "output_type": "stream",
     "text": [
      "ntree_limit is deprecated, use `iteration_range` or model slicing instead.\n"
     ]
    }
   ],
   "source": [
    "shap_values=explainer(X_input)"
   ]
  },
  {
   "cell_type": "code",
   "execution_count": 48,
   "metadata": {},
   "outputs": [
    {
     "data": {
      "image/png": "[encoded data removed]",
      "text/plain": [
       "<Figure size 576x396 with 2 Axes>"
      ]
     },
     "metadata": {
      "needs_background": "light"
     },
     "output_type": "display_data"
    }
   ],
   "source": [
    "shap.plots.beeswarm(shap_values)"
   ]
  },
  {
   "cell_type": "code",
   "execution_count": null,
   "metadata": {},
   "outputs": [],
   "source": []
  }
 ],
 "metadata": {
  "kernelspec": {
   "display_name": "Python 3",
   "language": "python",
   "name": "python3"
  },
  "language_info": {
   "codemirror_mode": {
    "name": "ipython",
    "version": 3
   },
   "file_extension": ".py",
   "mimetype": "text/x-python",
   "name": "python",
   "nbconvert_exporter": "python",
   "pygments_lexer": "ipython3",
   "version": "3.8.5"
  }
 },
 "nbformat": 4,
 "nbformat_minor": 4
}
